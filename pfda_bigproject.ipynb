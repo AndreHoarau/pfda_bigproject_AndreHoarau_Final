{
 "cells": [
  {
   "cell_type": "markdown",
   "metadata": {},
   "source": [
    "# PFDA Big Project (working title)\n",
    "## Author: Andre Hoarau"
   ]
  },
  {
   "cell_type": "markdown",
   "metadata": {},
   "source": [
    "* Country: The name of the country where the health data was recorded.\n",
    "* Year: The year in which the data was collected.\n",
    "* Disease Name: The name of the disease or health condition tracked.\n",
    "* Disease Category: The category of the disease (e.g., Infectious, Non-Communicable).\n",
    "* Prevalence Rate (%): The percentage of the population affected by the disease.\n",
    "* Incidence Rate (%): The percentage of new or newly diagnosed cases.\n",
    "* Mortality Rate (%): The percentage of the affected population that dies from the disease.\n",
    "* Age Group: The age range most affected by the disease.\n",
    "* Gender: The gender(s) affected by the disease (Male, Female, Both).\n",
    "* Population Affected: The total number of individuals affected by the disease.\n",
    "* Healthcare Access (%): The percentage of the population with access to healthcare.\n",
    "* Doctors per 1000: The number of doctors per 1000 people.\n",
    "* Hospital Beds per 1000: The number of hospital beds available per 1000 people.\n",
    "* Treatment Type: The primary treatment method for the disease (e.g., Medication, Surgery).\n",
    "* Average Treatment Cost (USD): The average cost of treating the disease in USD.\n",
    "* Availability of Vaccines/Treatment: Whether vaccines or treatments are available.\n",
    "* Recovery Rate (%): The percentage of people who recover from the disease.\n",
    "* DALYs: Disability-Adjusted Life Years, a measure of disease burden.\n",
    "* Improvement in 5 Years (%): The improvement in disease outcomes over the last five years.\n",
    "* Per Capita Income (USD): The average income per person in the country.\n",
    "* Education Index: The average level of education in the country.\n",
    "* Urbanization Rate (%): The percentage of the population living in urban areas."
   ]
  },
  {
   "cell_type": "code",
   "execution_count": 2,
   "metadata": {},
   "outputs": [],
   "source": [
    "# Imports that we will need\n",
    "import pandas as pd\n",
    "import plotly.express as px\n",
    "import sqlite3\n",
    "import seaborn as sns\n",
    "import matplotlib.pyplot as plt\n"
   ]
  },
  {
   "cell_type": "code",
   "execution_count": 7,
   "metadata": {},
   "outputs": [
    {
     "data": {
      "text/html": [
       "<div>\n",
       "<style scoped>\n",
       "    .dataframe tbody tr th:only-of-type {\n",
       "        vertical-align: middle;\n",
       "    }\n",
       "\n",
       "    .dataframe tbody tr th {\n",
       "        vertical-align: top;\n",
       "    }\n",
       "\n",
       "    .dataframe thead th {\n",
       "        text-align: right;\n",
       "    }\n",
       "</style>\n",
       "<table border=\"1\" class=\"dataframe\">\n",
       "  <thead>\n",
       "    <tr style=\"text-align: right;\">\n",
       "      <th></th>\n",
       "      <th>Country</th>\n",
       "      <th>Year</th>\n",
       "      <th>Disease Name</th>\n",
       "      <th>Disease Category</th>\n",
       "      <th>Prevalence Rate (%)</th>\n",
       "      <th>Incidence Rate (%)</th>\n",
       "      <th>Mortality Rate (%)</th>\n",
       "      <th>Age Group</th>\n",
       "      <th>Gender</th>\n",
       "      <th>Population Affected</th>\n",
       "      <th>...</th>\n",
       "      <th>Hospital Beds per 1000</th>\n",
       "      <th>Treatment Type</th>\n",
       "      <th>Average Treatment Cost (USD)</th>\n",
       "      <th>Availability of Vaccines/Treatment</th>\n",
       "      <th>Recovery Rate (%)</th>\n",
       "      <th>DALYs</th>\n",
       "      <th>Improvement in 5 Years (%)</th>\n",
       "      <th>Per Capita Income (USD)</th>\n",
       "      <th>Education Index</th>\n",
       "      <th>Urbanization Rate (%)</th>\n",
       "    </tr>\n",
       "  </thead>\n",
       "  <tbody>\n",
       "    <tr>\n",
       "      <th>0</th>\n",
       "      <td>Italy</td>\n",
       "      <td>2013</td>\n",
       "      <td>Malaria</td>\n",
       "      <td>Respiratory</td>\n",
       "      <td>0.95</td>\n",
       "      <td>1.55</td>\n",
       "      <td>8.42</td>\n",
       "      <td>0-18</td>\n",
       "      <td>Male</td>\n",
       "      <td>471007</td>\n",
       "      <td>...</td>\n",
       "      <td>7.58</td>\n",
       "      <td>Medication</td>\n",
       "      <td>21064</td>\n",
       "      <td>No</td>\n",
       "      <td>91.82</td>\n",
       "      <td>4493</td>\n",
       "      <td>2.16</td>\n",
       "      <td>16886</td>\n",
       "      <td>0.79</td>\n",
       "      <td>86.02</td>\n",
       "    </tr>\n",
       "    <tr>\n",
       "      <th>1</th>\n",
       "      <td>France</td>\n",
       "      <td>2002</td>\n",
       "      <td>Ebola</td>\n",
       "      <td>Parasitic</td>\n",
       "      <td>12.46</td>\n",
       "      <td>8.63</td>\n",
       "      <td>8.75</td>\n",
       "      <td>61+</td>\n",
       "      <td>Male</td>\n",
       "      <td>634318</td>\n",
       "      <td>...</td>\n",
       "      <td>5.11</td>\n",
       "      <td>Surgery</td>\n",
       "      <td>47851</td>\n",
       "      <td>Yes</td>\n",
       "      <td>76.65</td>\n",
       "      <td>2366</td>\n",
       "      <td>4.82</td>\n",
       "      <td>80639</td>\n",
       "      <td>0.74</td>\n",
       "      <td>45.52</td>\n",
       "    </tr>\n",
       "    <tr>\n",
       "      <th>2</th>\n",
       "      <td>Turkey</td>\n",
       "      <td>2015</td>\n",
       "      <td>COVID-19</td>\n",
       "      <td>Genetic</td>\n",
       "      <td>0.91</td>\n",
       "      <td>2.35</td>\n",
       "      <td>6.22</td>\n",
       "      <td>36-60</td>\n",
       "      <td>Male</td>\n",
       "      <td>154878</td>\n",
       "      <td>...</td>\n",
       "      <td>3.49</td>\n",
       "      <td>Vaccination</td>\n",
       "      <td>27834</td>\n",
       "      <td>Yes</td>\n",
       "      <td>98.55</td>\n",
       "      <td>41</td>\n",
       "      <td>5.81</td>\n",
       "      <td>12245</td>\n",
       "      <td>0.41</td>\n",
       "      <td>40.20</td>\n",
       "    </tr>\n",
       "    <tr>\n",
       "      <th>3</th>\n",
       "      <td>Indonesia</td>\n",
       "      <td>2011</td>\n",
       "      <td>Parkinson's Disease</td>\n",
       "      <td>Autoimmune</td>\n",
       "      <td>4.68</td>\n",
       "      <td>6.29</td>\n",
       "      <td>3.99</td>\n",
       "      <td>0-18</td>\n",
       "      <td>Other</td>\n",
       "      <td>446224</td>\n",
       "      <td>...</td>\n",
       "      <td>8.44</td>\n",
       "      <td>Surgery</td>\n",
       "      <td>144</td>\n",
       "      <td>Yes</td>\n",
       "      <td>67.35</td>\n",
       "      <td>3201</td>\n",
       "      <td>2.22</td>\n",
       "      <td>49336</td>\n",
       "      <td>0.49</td>\n",
       "      <td>58.47</td>\n",
       "    </tr>\n",
       "    <tr>\n",
       "      <th>4</th>\n",
       "      <td>Italy</td>\n",
       "      <td>2013</td>\n",
       "      <td>Tuberculosis</td>\n",
       "      <td>Genetic</td>\n",
       "      <td>0.83</td>\n",
       "      <td>13.59</td>\n",
       "      <td>7.01</td>\n",
       "      <td>61+</td>\n",
       "      <td>Male</td>\n",
       "      <td>472908</td>\n",
       "      <td>...</td>\n",
       "      <td>5.90</td>\n",
       "      <td>Medication</td>\n",
       "      <td>8908</td>\n",
       "      <td>Yes</td>\n",
       "      <td>50.06</td>\n",
       "      <td>2832</td>\n",
       "      <td>6.93</td>\n",
       "      <td>47701</td>\n",
       "      <td>0.50</td>\n",
       "      <td>48.14</td>\n",
       "    </tr>\n",
       "  </tbody>\n",
       "</table>\n",
       "<p>5 rows × 22 columns</p>\n",
       "</div>"
      ],
      "text/plain": [
       "     Country  Year         Disease Name Disease Category  Prevalence Rate (%)  \\\n",
       "0      Italy  2013              Malaria      Respiratory                 0.95   \n",
       "1     France  2002                Ebola        Parasitic                12.46   \n",
       "2     Turkey  2015             COVID-19          Genetic                 0.91   \n",
       "3  Indonesia  2011  Parkinson's Disease       Autoimmune                 4.68   \n",
       "4      Italy  2013         Tuberculosis          Genetic                 0.83   \n",
       "\n",
       "   Incidence Rate (%)  Mortality Rate (%) Age Group Gender  \\\n",
       "0                1.55                8.42      0-18   Male   \n",
       "1                8.63                8.75       61+   Male   \n",
       "2                2.35                6.22     36-60   Male   \n",
       "3                6.29                3.99      0-18  Other   \n",
       "4               13.59                7.01       61+   Male   \n",
       "\n",
       "   Population Affected  ...  Hospital Beds per 1000  Treatment Type  \\\n",
       "0               471007  ...                    7.58      Medication   \n",
       "1               634318  ...                    5.11         Surgery   \n",
       "2               154878  ...                    3.49     Vaccination   \n",
       "3               446224  ...                    8.44         Surgery   \n",
       "4               472908  ...                    5.90      Medication   \n",
       "\n",
       "   Average Treatment Cost (USD) Availability of Vaccines/Treatment  \\\n",
       "0                         21064                                 No   \n",
       "1                         47851                                Yes   \n",
       "2                         27834                                Yes   \n",
       "3                           144                                Yes   \n",
       "4                          8908                                Yes   \n",
       "\n",
       "   Recovery Rate (%) DALYs  Improvement in 5 Years (%)  \\\n",
       "0              91.82  4493                        2.16   \n",
       "1              76.65  2366                        4.82   \n",
       "2              98.55    41                        5.81   \n",
       "3              67.35  3201                        2.22   \n",
       "4              50.06  2832                        6.93   \n",
       "\n",
       "   Per Capita Income (USD)  Education Index  Urbanization Rate (%)  \n",
       "0                    16886             0.79                  86.02  \n",
       "1                    80639             0.74                  45.52  \n",
       "2                    12245             0.41                  40.20  \n",
       "3                    49336             0.49                  58.47  \n",
       "4                    47701             0.50                  48.14  \n",
       "\n",
       "[5 rows x 22 columns]"
      ]
     },
     "execution_count": 7,
     "metadata": {},
     "output_type": "execute_result"
    }
   ],
   "source": [
    "# Read in our first data set\n",
    "filepath = \"../pfda_projectdata/updatedglobalhealthstatistics.zip\"\n",
    "\n",
    "dfglobalhealth = pd.read_csv(filepath, compression='zip' )\n",
    "dfglobalhealth.head()\n"
   ]
  },
  {
   "cell_type": "code",
   "execution_count": 8,
   "metadata": {},
   "outputs": [
    {
     "data": {
      "text/plain": [
       "<function Connection.close()>"
      ]
     },
     "execution_count": 8,
     "metadata": {},
     "output_type": "execute_result"
    }
   ],
   "source": [
    "# Create a database file for efficient use of the data.\n",
    "db_path = \"../pfda_projectdata/my_database.db\"  # Path to your SQLite database file\n",
    "conn = sqlite3.connect(db_path)\n",
    "table_name = \"country_health_data\"\n",
    "dfglobalhealth.to_sql(table_name, conn, if_exists=\"replace\", index=False)\n",
    "\n",
    "\n",
    "conn.close"
   ]
  },
  {
   "cell_type": "code",
   "execution_count": 9,
   "metadata": {},
   "outputs": [
    {
     "data": {
      "application/vnd.plotly.v1+json": {
       "config": {
        "plotlyServerURL": "https://plot.ly"
       },
       "data": [
        {
         "coloraxis": "coloraxis",
         "customdata": [
          [
           "Zika",
           10
          ],
          [
           "Hypertension",
           10
          ],
          [
           "Rabies",
           10
          ],
          [
           "HIV/AIDS",
           10
          ],
          [
           "COVID-19",
           10
          ],
          [
           "Leprosy",
           10
          ],
          [
           "Cancer",
           10
          ],
          [
           "Parkinson's Disease",
           10
          ],
          [
           "Asthma",
           10
          ],
          [
           "Cancer",
           10
          ],
          [
           "Malaria",
           10
          ],
          [
           "Cancer",
           10
          ],
          [
           "Leprosy",
           10
          ],
          [
           "Dengue",
           10
          ],
          [
           "Cancer",
           10
          ],
          [
           "Dengue",
           10
          ],
          [
           "Dengue",
           10
          ],
          [
           "Ebola",
           10
          ],
          [
           "Ebola",
           10
          ],
          [
           "Zika",
           10
          ]
         ],
         "geo": "geo",
         "hovertemplate": "<b>%{hovertext}</b><br><br>Country=%{location}<br>Disease Name=%{customdata[0]}<br>Mortality Rate (%)=%{z}<extra></extra>",
         "hovertext": [
          "Argentina",
          "Australia",
          "Brazil",
          "Canada",
          "China",
          "France",
          "Germany",
          "India",
          "Indonesia",
          "Italy",
          "Japan",
          "Mexico",
          "Nigeria",
          "Russia",
          "Saudi Arabia",
          "South Africa",
          "South Korea",
          "Turkey",
          "UK",
          "USA"
         ],
         "locationmode": "country names",
         "locations": [
          "Argentina",
          "Australia",
          "Brazil",
          "Canada",
          "China",
          "France",
          "Germany",
          "India",
          "Indonesia",
          "Italy",
          "Japan",
          "Mexico",
          "Nigeria",
          "Russia",
          "Saudi Arabia",
          "South Africa",
          "South Korea",
          "Turkey",
          "UK",
          "USA"
         ],
         "name": "",
         "type": "choropleth",
         "z": [
          10,
          10,
          10,
          10,
          10,
          10,
          10,
          10,
          10,
          10,
          10,
          10,
          10,
          10,
          10,
          10,
          10,
          10,
          10,
          10
         ]
        }
       ],
       "layout": {
        "coloraxis": {
         "colorbar": {
          "title": {
           "text": "Mortality Rate (%)"
          }
         },
         "colorscale": [
          [
           0,
           "rgb(255,245,240)"
          ],
          [
           0.125,
           "rgb(254,224,210)"
          ],
          [
           0.25,
           "rgb(252,187,161)"
          ],
          [
           0.375,
           "rgb(252,146,114)"
          ],
          [
           0.5,
           "rgb(251,106,74)"
          ],
          [
           0.625,
           "rgb(239,59,44)"
          ],
          [
           0.75,
           "rgb(203,24,29)"
          ],
          [
           0.875,
           "rgb(165,15,21)"
          ],
          [
           1,
           "rgb(103,0,13)"
          ]
         ]
        },
        "geo": {
         "center": {},
         "domain": {
          "x": [
           0,
           1
          ],
          "y": [
           0,
           1
          ]
         },
         "showcoastlines": true,
         "showframe": false
        },
        "legend": {
         "tracegroupgap": 0
        },
        "template": {
         "data": {
          "bar": [
           {
            "error_x": {
             "color": "#2a3f5f"
            },
            "error_y": {
             "color": "#2a3f5f"
            },
            "marker": {
             "line": {
              "color": "#E5ECF6",
              "width": 0.5
             },
             "pattern": {
              "fillmode": "overlay",
              "size": 10,
              "solidity": 0.2
             }
            },
            "type": "bar"
           }
          ],
          "barpolar": [
           {
            "marker": {
             "line": {
              "color": "#E5ECF6",
              "width": 0.5
             },
             "pattern": {
              "fillmode": "overlay",
              "size": 10,
              "solidity": 0.2
             }
            },
            "type": "barpolar"
           }
          ],
          "carpet": [
           {
            "aaxis": {
             "endlinecolor": "#2a3f5f",
             "gridcolor": "white",
             "linecolor": "white",
             "minorgridcolor": "white",
             "startlinecolor": "#2a3f5f"
            },
            "baxis": {
             "endlinecolor": "#2a3f5f",
             "gridcolor": "white",
             "linecolor": "white",
             "minorgridcolor": "white",
             "startlinecolor": "#2a3f5f"
            },
            "type": "carpet"
           }
          ],
          "choropleth": [
           {
            "colorbar": {
             "outlinewidth": 0,
             "ticks": ""
            },
            "type": "choropleth"
           }
          ],
          "contour": [
           {
            "colorbar": {
             "outlinewidth": 0,
             "ticks": ""
            },
            "colorscale": [
             [
              0,
              "#0d0887"
             ],
             [
              0.1111111111111111,
              "#46039f"
             ],
             [
              0.2222222222222222,
              "#7201a8"
             ],
             [
              0.3333333333333333,
              "#9c179e"
             ],
             [
              0.4444444444444444,
              "#bd3786"
             ],
             [
              0.5555555555555556,
              "#d8576b"
             ],
             [
              0.6666666666666666,
              "#ed7953"
             ],
             [
              0.7777777777777778,
              "#fb9f3a"
             ],
             [
              0.8888888888888888,
              "#fdca26"
             ],
             [
              1,
              "#f0f921"
             ]
            ],
            "type": "contour"
           }
          ],
          "contourcarpet": [
           {
            "colorbar": {
             "outlinewidth": 0,
             "ticks": ""
            },
            "type": "contourcarpet"
           }
          ],
          "heatmap": [
           {
            "colorbar": {
             "outlinewidth": 0,
             "ticks": ""
            },
            "colorscale": [
             [
              0,
              "#0d0887"
             ],
             [
              0.1111111111111111,
              "#46039f"
             ],
             [
              0.2222222222222222,
              "#7201a8"
             ],
             [
              0.3333333333333333,
              "#9c179e"
             ],
             [
              0.4444444444444444,
              "#bd3786"
             ],
             [
              0.5555555555555556,
              "#d8576b"
             ],
             [
              0.6666666666666666,
              "#ed7953"
             ],
             [
              0.7777777777777778,
              "#fb9f3a"
             ],
             [
              0.8888888888888888,
              "#fdca26"
             ],
             [
              1,
              "#f0f921"
             ]
            ],
            "type": "heatmap"
           }
          ],
          "heatmapgl": [
           {
            "colorbar": {
             "outlinewidth": 0,
             "ticks": ""
            },
            "colorscale": [
             [
              0,
              "#0d0887"
             ],
             [
              0.1111111111111111,
              "#46039f"
             ],
             [
              0.2222222222222222,
              "#7201a8"
             ],
             [
              0.3333333333333333,
              "#9c179e"
             ],
             [
              0.4444444444444444,
              "#bd3786"
             ],
             [
              0.5555555555555556,
              "#d8576b"
             ],
             [
              0.6666666666666666,
              "#ed7953"
             ],
             [
              0.7777777777777778,
              "#fb9f3a"
             ],
             [
              0.8888888888888888,
              "#fdca26"
             ],
             [
              1,
              "#f0f921"
             ]
            ],
            "type": "heatmapgl"
           }
          ],
          "histogram": [
           {
            "marker": {
             "pattern": {
              "fillmode": "overlay",
              "size": 10,
              "solidity": 0.2
             }
            },
            "type": "histogram"
           }
          ],
          "histogram2d": [
           {
            "colorbar": {
             "outlinewidth": 0,
             "ticks": ""
            },
            "colorscale": [
             [
              0,
              "#0d0887"
             ],
             [
              0.1111111111111111,
              "#46039f"
             ],
             [
              0.2222222222222222,
              "#7201a8"
             ],
             [
              0.3333333333333333,
              "#9c179e"
             ],
             [
              0.4444444444444444,
              "#bd3786"
             ],
             [
              0.5555555555555556,
              "#d8576b"
             ],
             [
              0.6666666666666666,
              "#ed7953"
             ],
             [
              0.7777777777777778,
              "#fb9f3a"
             ],
             [
              0.8888888888888888,
              "#fdca26"
             ],
             [
              1,
              "#f0f921"
             ]
            ],
            "type": "histogram2d"
           }
          ],
          "histogram2dcontour": [
           {
            "colorbar": {
             "outlinewidth": 0,
             "ticks": ""
            },
            "colorscale": [
             [
              0,
              "#0d0887"
             ],
             [
              0.1111111111111111,
              "#46039f"
             ],
             [
              0.2222222222222222,
              "#7201a8"
             ],
             [
              0.3333333333333333,
              "#9c179e"
             ],
             [
              0.4444444444444444,
              "#bd3786"
             ],
             [
              0.5555555555555556,
              "#d8576b"
             ],
             [
              0.6666666666666666,
              "#ed7953"
             ],
             [
              0.7777777777777778,
              "#fb9f3a"
             ],
             [
              0.8888888888888888,
              "#fdca26"
             ],
             [
              1,
              "#f0f921"
             ]
            ],
            "type": "histogram2dcontour"
           }
          ],
          "mesh3d": [
           {
            "colorbar": {
             "outlinewidth": 0,
             "ticks": ""
            },
            "type": "mesh3d"
           }
          ],
          "parcoords": [
           {
            "line": {
             "colorbar": {
              "outlinewidth": 0,
              "ticks": ""
             }
            },
            "type": "parcoords"
           }
          ],
          "pie": [
           {
            "automargin": true,
            "type": "pie"
           }
          ],
          "scatter": [
           {
            "fillpattern": {
             "fillmode": "overlay",
             "size": 10,
             "solidity": 0.2
            },
            "type": "scatter"
           }
          ],
          "scatter3d": [
           {
            "line": {
             "colorbar": {
              "outlinewidth": 0,
              "ticks": ""
             }
            },
            "marker": {
             "colorbar": {
              "outlinewidth": 0,
              "ticks": ""
             }
            },
            "type": "scatter3d"
           }
          ],
          "scattercarpet": [
           {
            "marker": {
             "colorbar": {
              "outlinewidth": 0,
              "ticks": ""
             }
            },
            "type": "scattercarpet"
           }
          ],
          "scattergeo": [
           {
            "marker": {
             "colorbar": {
              "outlinewidth": 0,
              "ticks": ""
             }
            },
            "type": "scattergeo"
           }
          ],
          "scattergl": [
           {
            "marker": {
             "colorbar": {
              "outlinewidth": 0,
              "ticks": ""
             }
            },
            "type": "scattergl"
           }
          ],
          "scattermapbox": [
           {
            "marker": {
             "colorbar": {
              "outlinewidth": 0,
              "ticks": ""
             }
            },
            "type": "scattermapbox"
           }
          ],
          "scatterpolar": [
           {
            "marker": {
             "colorbar": {
              "outlinewidth": 0,
              "ticks": ""
             }
            },
            "type": "scatterpolar"
           }
          ],
          "scatterpolargl": [
           {
            "marker": {
             "colorbar": {
              "outlinewidth": 0,
              "ticks": ""
             }
            },
            "type": "scatterpolargl"
           }
          ],
          "scatterternary": [
           {
            "marker": {
             "colorbar": {
              "outlinewidth": 0,
              "ticks": ""
             }
            },
            "type": "scatterternary"
           }
          ],
          "surface": [
           {
            "colorbar": {
             "outlinewidth": 0,
             "ticks": ""
            },
            "colorscale": [
             [
              0,
              "#0d0887"
             ],
             [
              0.1111111111111111,
              "#46039f"
             ],
             [
              0.2222222222222222,
              "#7201a8"
             ],
             [
              0.3333333333333333,
              "#9c179e"
             ],
             [
              0.4444444444444444,
              "#bd3786"
             ],
             [
              0.5555555555555556,
              "#d8576b"
             ],
             [
              0.6666666666666666,
              "#ed7953"
             ],
             [
              0.7777777777777778,
              "#fb9f3a"
             ],
             [
              0.8888888888888888,
              "#fdca26"
             ],
             [
              1,
              "#f0f921"
             ]
            ],
            "type": "surface"
           }
          ],
          "table": [
           {
            "cells": {
             "fill": {
              "color": "#EBF0F8"
             },
             "line": {
              "color": "white"
             }
            },
            "header": {
             "fill": {
              "color": "#C8D4E3"
             },
             "line": {
              "color": "white"
             }
            },
            "type": "table"
           }
          ]
         },
         "layout": {
          "annotationdefaults": {
           "arrowcolor": "#2a3f5f",
           "arrowhead": 0,
           "arrowwidth": 1
          },
          "autotypenumbers": "strict",
          "coloraxis": {
           "colorbar": {
            "outlinewidth": 0,
            "ticks": ""
           }
          },
          "colorscale": {
           "diverging": [
            [
             0,
             "#8e0152"
            ],
            [
             0.1,
             "#c51b7d"
            ],
            [
             0.2,
             "#de77ae"
            ],
            [
             0.3,
             "#f1b6da"
            ],
            [
             0.4,
             "#fde0ef"
            ],
            [
             0.5,
             "#f7f7f7"
            ],
            [
             0.6,
             "#e6f5d0"
            ],
            [
             0.7,
             "#b8e186"
            ],
            [
             0.8,
             "#7fbc41"
            ],
            [
             0.9,
             "#4d9221"
            ],
            [
             1,
             "#276419"
            ]
           ],
           "sequential": [
            [
             0,
             "#0d0887"
            ],
            [
             0.1111111111111111,
             "#46039f"
            ],
            [
             0.2222222222222222,
             "#7201a8"
            ],
            [
             0.3333333333333333,
             "#9c179e"
            ],
            [
             0.4444444444444444,
             "#bd3786"
            ],
            [
             0.5555555555555556,
             "#d8576b"
            ],
            [
             0.6666666666666666,
             "#ed7953"
            ],
            [
             0.7777777777777778,
             "#fb9f3a"
            ],
            [
             0.8888888888888888,
             "#fdca26"
            ],
            [
             1,
             "#f0f921"
            ]
           ],
           "sequentialminus": [
            [
             0,
             "#0d0887"
            ],
            [
             0.1111111111111111,
             "#46039f"
            ],
            [
             0.2222222222222222,
             "#7201a8"
            ],
            [
             0.3333333333333333,
             "#9c179e"
            ],
            [
             0.4444444444444444,
             "#bd3786"
            ],
            [
             0.5555555555555556,
             "#d8576b"
            ],
            [
             0.6666666666666666,
             "#ed7953"
            ],
            [
             0.7777777777777778,
             "#fb9f3a"
            ],
            [
             0.8888888888888888,
             "#fdca26"
            ],
            [
             1,
             "#f0f921"
            ]
           ]
          },
          "colorway": [
           "#636efa",
           "#EF553B",
           "#00cc96",
           "#ab63fa",
           "#FFA15A",
           "#19d3f3",
           "#FF6692",
           "#B6E880",
           "#FF97FF",
           "#FECB52"
          ],
          "font": {
           "color": "#2a3f5f"
          },
          "geo": {
           "bgcolor": "white",
           "lakecolor": "white",
           "landcolor": "#E5ECF6",
           "showlakes": true,
           "showland": true,
           "subunitcolor": "white"
          },
          "hoverlabel": {
           "align": "left"
          },
          "hovermode": "closest",
          "mapbox": {
           "style": "light"
          },
          "paper_bgcolor": "white",
          "plot_bgcolor": "#E5ECF6",
          "polar": {
           "angularaxis": {
            "gridcolor": "white",
            "linecolor": "white",
            "ticks": ""
           },
           "bgcolor": "#E5ECF6",
           "radialaxis": {
            "gridcolor": "white",
            "linecolor": "white",
            "ticks": ""
           }
          },
          "scene": {
           "xaxis": {
            "backgroundcolor": "#E5ECF6",
            "gridcolor": "white",
            "gridwidth": 2,
            "linecolor": "white",
            "showbackground": true,
            "ticks": "",
            "zerolinecolor": "white"
           },
           "yaxis": {
            "backgroundcolor": "#E5ECF6",
            "gridcolor": "white",
            "gridwidth": 2,
            "linecolor": "white",
            "showbackground": true,
            "ticks": "",
            "zerolinecolor": "white"
           },
           "zaxis": {
            "backgroundcolor": "#E5ECF6",
            "gridcolor": "white",
            "gridwidth": 2,
            "linecolor": "white",
            "showbackground": true,
            "ticks": "",
            "zerolinecolor": "white"
           }
          },
          "shapedefaults": {
           "line": {
            "color": "#2a3f5f"
           }
          },
          "ternary": {
           "aaxis": {
            "gridcolor": "white",
            "linecolor": "white",
            "ticks": ""
           },
           "baxis": {
            "gridcolor": "white",
            "linecolor": "white",
            "ticks": ""
           },
           "bgcolor": "#E5ECF6",
           "caxis": {
            "gridcolor": "white",
            "linecolor": "white",
            "ticks": ""
           }
          },
          "title": {
           "x": 0.05
          },
          "xaxis": {
           "automargin": true,
           "gridcolor": "white",
           "linecolor": "white",
           "ticks": "",
           "title": {
            "standoff": 15
           },
           "zerolinecolor": "white",
           "zerolinewidth": 2
          },
          "yaxis": {
           "automargin": true,
           "gridcolor": "white",
           "linecolor": "white",
           "ticks": "",
           "title": {
            "standoff": 15
           },
           "zerolinecolor": "white",
           "zerolinewidth": 2
          }
         }
        },
        "title": {
         "text": "Deadliest Disease by Country"
        }
       }
      }
     },
     "metadata": {},
     "output_type": "display_data"
    }
   ],
   "source": [
    "conn = sqlite3.connect(db_path)\n",
    "\n",
    "query = \"\"\"\n",
    "SELECT *\n",
    "FROM country_health_data\n",
    "WHERE \"Mortality Rate (%)\" IS NOT NULL;\n",
    "\"\"\" \n",
    "dfglobalhealth = pd.read_sql(query, conn)\n",
    "\n",
    "# Deadliest disease recorded per country\n",
    "deadliestdisease = dfglobalhealth.loc[dfglobalhealth.groupby(\"Country\")[\"Mortality Rate (%)\"].idxmax()]\n",
    "# Create a choropleth map\n",
    "fig = px.choropleth(\n",
    "    deadliestdisease,\n",
    "    locations=\"Country\",             # Use country names directly\n",
    "    locationmode=\"country names\",    # Specify that we're using country names\n",
    "    color=\"Mortality Rate (%)\",          # Values to color by\n",
    "    hover_name=\"Country\",            # Display country name on hover\n",
    "    hover_data={\"Disease Name\": True, \"Mortality Rate (%)\": True},  # Additional data on hover\n",
    "    title=\"Deadliest Disease by Country\",\n",
    "    color_continuous_scale=\"Reds\"    # Color scale for the map\n",
    ")\n",
    "\n",
    "fig.update_layout(geo=dict(showframe=False, showcoastlines=True))\n",
    "fig.show()\n",
    "conn.close()"
   ]
  },
  {
   "cell_type": "markdown",
   "metadata": {},
   "source": [
    "### Noticing that this only had 20 countries I expanded my search and used the Institute for Health Metrics and Evaluation (IHME) to gather global mortality by infectious diseases.\n",
    "\n",
    "conn = sqlite3.connect(db_path)\n",
    "table_name = \"world_mortality_data\"\n",
    "dfglobalhealth.to_sql(table_name, conn, if_exists=\"replace\", index=False)\n",
    "\n",
    "\n",
    "conn.close"
   ]
  },
  {
   "cell_type": "code",
   "execution_count": 17,
   "metadata": {},
   "outputs": [
    {
     "data": {
      "text/html": [
       "<div>\n",
       "<style scoped>\n",
       "    .dataframe tbody tr th:only-of-type {\n",
       "        vertical-align: middle;\n",
       "    }\n",
       "\n",
       "    .dataframe tbody tr th {\n",
       "        vertical-align: top;\n",
       "    }\n",
       "\n",
       "    .dataframe thead th {\n",
       "        text-align: right;\n",
       "    }\n",
       "</style>\n",
       "<table border=\"1\" class=\"dataframe\">\n",
       "  <thead>\n",
       "    <tr style=\"text-align: right;\">\n",
       "      <th></th>\n",
       "      <th>measure</th>\n",
       "      <th>location</th>\n",
       "      <th>sex</th>\n",
       "      <th>age</th>\n",
       "      <th>cause</th>\n",
       "      <th>metric</th>\n",
       "      <th>year</th>\n",
       "      <th>val</th>\n",
       "      <th>upper</th>\n",
       "      <th>lower</th>\n",
       "    </tr>\n",
       "  </thead>\n",
       "  <tbody>\n",
       "    <tr>\n",
       "      <th>0</th>\n",
       "      <td>Deaths</td>\n",
       "      <td>China</td>\n",
       "      <td>Both</td>\n",
       "      <td>All ages</td>\n",
       "      <td>Respiratory infections and tuberculosis</td>\n",
       "      <td>Number</td>\n",
       "      <td>2021</td>\n",
       "      <td>247527.122941</td>\n",
       "      <td>298829.846631</td>\n",
       "      <td>205348.321356</td>\n",
       "    </tr>\n",
       "    <tr>\n",
       "      <th>1</th>\n",
       "      <td>Deaths</td>\n",
       "      <td>China</td>\n",
       "      <td>Both</td>\n",
       "      <td>All ages</td>\n",
       "      <td>Respiratory infections and tuberculosis</td>\n",
       "      <td>Percent</td>\n",
       "      <td>2021</td>\n",
       "      <td>0.021173</td>\n",
       "      <td>0.024804</td>\n",
       "      <td>0.018712</td>\n",
       "    </tr>\n",
       "    <tr>\n",
       "      <th>2</th>\n",
       "      <td>Deaths</td>\n",
       "      <td>China</td>\n",
       "      <td>Both</td>\n",
       "      <td>All ages</td>\n",
       "      <td>Respiratory infections and tuberculosis</td>\n",
       "      <td>Rate</td>\n",
       "      <td>2021</td>\n",
       "      <td>17.397844</td>\n",
       "      <td>21.003739</td>\n",
       "      <td>14.433239</td>\n",
       "    </tr>\n",
       "    <tr>\n",
       "      <th>3</th>\n",
       "      <td>Deaths</td>\n",
       "      <td>China</td>\n",
       "      <td>Both</td>\n",
       "      <td>All ages</td>\n",
       "      <td>Enteric infections</td>\n",
       "      <td>Number</td>\n",
       "      <td>2021</td>\n",
       "      <td>5593.531658</td>\n",
       "      <td>9187.547949</td>\n",
       "      <td>3929.904519</td>\n",
       "    </tr>\n",
       "    <tr>\n",
       "      <th>4</th>\n",
       "      <td>Deaths</td>\n",
       "      <td>China</td>\n",
       "      <td>Both</td>\n",
       "      <td>All ages</td>\n",
       "      <td>Enteric infections</td>\n",
       "      <td>Percent</td>\n",
       "      <td>2021</td>\n",
       "      <td>0.000478</td>\n",
       "      <td>0.000741</td>\n",
       "      <td>0.000337</td>\n",
       "    </tr>\n",
       "  </tbody>\n",
       "</table>\n",
       "</div>"
      ],
      "text/plain": [
       "  measure location   sex       age                                    cause  \\\n",
       "0  Deaths    China  Both  All ages  Respiratory infections and tuberculosis   \n",
       "1  Deaths    China  Both  All ages  Respiratory infections and tuberculosis   \n",
       "2  Deaths    China  Both  All ages  Respiratory infections and tuberculosis   \n",
       "3  Deaths    China  Both  All ages                       Enteric infections   \n",
       "4  Deaths    China  Both  All ages                       Enteric infections   \n",
       "\n",
       "    metric  year            val          upper          lower  \n",
       "0   Number  2021  247527.122941  298829.846631  205348.321356  \n",
       "1  Percent  2021       0.021173       0.024804       0.018712  \n",
       "2     Rate  2021      17.397844      21.003739      14.433239  \n",
       "3   Number  2021    5593.531658    9187.547949    3929.904519  \n",
       "4  Percent  2021       0.000478       0.000741       0.000337  "
      ]
     },
     "execution_count": 17,
     "metadata": {},
     "output_type": "execute_result"
    }
   ],
   "source": [
    "# Read in our second data set\n",
    "filepath2 = \"../pfda_projectdata/ihmemortalitydata.zip\"\n",
    "mortalitydata = pd.read_csv(filepath2, compression='zip' )\n",
    "mortalitydata.head()"
   ]
  },
  {
   "cell_type": "markdown",
   "metadata": {},
   "source": []
  },
  {
   "cell_type": "code",
   "execution_count": null,
   "metadata": {},
   "outputs": [],
   "source": []
  },
  {
   "cell_type": "code",
   "execution_count": null,
   "metadata": {},
   "outputs": [],
   "source": []
  },
  {
   "cell_type": "code",
   "execution_count": null,
   "metadata": {},
   "outputs": [],
   "source": []
  },
  {
   "cell_type": "code",
   "execution_count": null,
   "metadata": {},
   "outputs": [],
   "source": []
  },
  {
   "cell_type": "markdown",
   "metadata": {},
   "source": [
    "# References:\n",
    "[MalaiarasuGRaj. (2024). Global Health Statistics [Data set]. Kaggle.](https://doi.org/10.34740/KAGGLE/DSV/10028650) - This is the global health statistics I used."
   ]
  },
  {
   "cell_type": "markdown",
   "metadata": {},
   "source": [
    "# End"
   ]
  }
 ],
 "metadata": {
  "kernelspec": {
   "display_name": "base",
   "language": "python",
   "name": "python3"
  },
  "language_info": {
   "codemirror_mode": {
    "name": "ipython",
    "version": 3
   },
   "file_extension": ".py",
   "mimetype": "text/x-python",
   "name": "python",
   "nbconvert_exporter": "python",
   "pygments_lexer": "ipython3",
   "version": "3.12.4"
  }
 },
 "nbformat": 4,
 "nbformat_minor": 2
}
